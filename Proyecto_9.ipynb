{
 "cells": [
  {
   "cell_type": "markdown",
   "metadata": {},
   "source": [
    "# Proyecto 9"
   ]
  },
  {
   "cell_type": "markdown",
   "metadata": {},
   "source": [
    "## Descripción del proyecto\n",
    "\n",
    "Los clientes de Beta Bank se están yendo, cada mes, poco a poco. Los banqueros descubrieron que es más barato salvar a los clientes existentes que atraer nuevos.\n",
    "\n",
    "Necesitamos predecir si un cliente dejará el banco pronto. Se tienen los datos sobre el comportamiento pasado de los clientes y la terminación de contratos con el banco."
   ]
  },
  {
   "cell_type": "markdown",
   "metadata": {},
   "source": [
    "## Objetivo\n",
    "\n",
    "1. Crear un modelo con el máximo valor F1 posible (al menos 0.59).\n",
    "\n",
    "    1.1. Verificar F1 para el conjunto de prueba. \n",
    "\n",
    "2. Medir la métrica AUC-ROC\n",
    "\n",
    "    2.1. Compararla con el valor F1."
   ]
  },
  {
   "cell_type": "markdown",
   "metadata": {},
   "source": [
    "## Pasos\n",
    "\n",
    "1. Preparar los datos.\n",
    "2. Examinar el equilibrio de clases.\n",
    "\n",
    "    2.1. Entrenar el modelo sin tener en cuenta el desequilibrio.\n",
    "3. Mejorar la calidad del modelo.\n",
    "    \n",
    "    3.1. Utilizar al menos dos enfoques para corregir el desequilibrio de clases. \n",
    "\n",
    "    3.2. Utilizar conjuntos de entrenamiento y validación.\n",
    "\n",
    "    3.3. Entrenar diferentes modelos con los conjuntos de entrenamiento y validación.\n",
    "\n",
    "    3.4. Describrir hallazgos. \n",
    "\n",
    "4. Realizar prueba final."
   ]
  },
  {
   "cell_type": "markdown",
   "metadata": {},
   "source": [
    "## Descripción de datos\n",
    "\n",
    "**Características**\n",
    "\n",
    "- RowNumber: índice de cadena de datos\n",
    "\n",
    "- CustomerId: identificador de cliente único\n",
    "\n",
    "- Surname: apellido\n",
    "\n",
    "- CreditScore: valor de crédito\n",
    "\n",
    "- Geography: país de residencia\n",
    "\n",
    "- Gender: sexo\n",
    "\n",
    "- Age: edad\n",
    "\n",
    "- Tenure: período durante el cual ha madurado el depósito a plazo fijo de un cliente (años)\n",
    "\n",
    "- Balance: saldo de la cuenta\n",
    "\n",
    "- NumOfProducts: número de productos bancarios utilizados por el cliente\n",
    "\n",
    "- HasCrCard: el cliente tiene una tarjeta de crédito (1 - sí; 0 - no)\n",
    "\n",
    "- IsActiveMember: actividad del cliente (1 - sí; 0 - no)\n",
    "\n",
    "- EstimatedSalary: salario estimado\n",
    "\n",
    "**Objetivo**\n",
    "\n",
    "- Exited: El cliente se ha ido (1 - sí; 0 - no)"
   ]
  },
  {
   "cell_type": "markdown",
   "metadata": {},
   "source": [
    "## Preparación de datos"
   ]
  },
  {
   "cell_type": "code",
   "execution_count": 1,
   "metadata": {},
   "outputs": [],
   "source": [
    "# Importación de librerías\n",
    "\n",
    "import warnings\n",
    "import pandas as pd\n",
    "from matplotlib import pyplot as plt\n",
    "from sklearn.utils import shuffle\n",
    "\n",
    "# Preprocesamiento\n",
    "from sklearn.preprocessing import OrdinalEncoder\n",
    "from sklearn.preprocessing import StandardScaler\n",
    "from sklearn.model_selection import train_test_split\n",
    "\n",
    "# Modelos\n",
    "from sklearn.tree import DecisionTreeClassifier\n",
    "from sklearn.ensemble import RandomForestClassifier\n",
    "from sklearn.linear_model import LogisticRegression\n",
    "\n",
    "# Métricas\n",
    "from sklearn.metrics import f1_score\n",
    "from sklearn.metrics import roc_auc_score\n",
    "from sklearn.metrics import roc_curve\n",
    "\n",
    "# Omitir advertencias futuras\n",
    "warnings.simplefilter(action='ignore', category=FutureWarning)"
   ]
  },
  {
   "cell_type": "code",
   "execution_count": 2,
   "metadata": {},
   "outputs": [],
   "source": [
    "# Importación de dataset\n",
    "\n",
    "data = pd.read_csv('Churn.csv')"
   ]
  },
  {
   "cell_type": "code",
   "execution_count": 3,
   "metadata": {},
   "outputs": [
    {
     "name": "stdout",
     "output_type": "stream",
     "text": [
      "<class 'pandas.core.frame.DataFrame'>\n",
      "RangeIndex: 10000 entries, 0 to 9999\n",
      "Data columns (total 14 columns):\n",
      " #   Column           Non-Null Count  Dtype  \n",
      "---  ------           --------------  -----  \n",
      " 0   RowNumber        10000 non-null  int64  \n",
      " 1   CustomerId       10000 non-null  int64  \n",
      " 2   Surname          10000 non-null  object \n",
      " 3   CreditScore      10000 non-null  int64  \n",
      " 4   Geography        10000 non-null  object \n",
      " 5   Gender           10000 non-null  object \n",
      " 6   Age              10000 non-null  int64  \n",
      " 7   Tenure           9091 non-null   float64\n",
      " 8   Balance          10000 non-null  float64\n",
      " 9   NumOfProducts    10000 non-null  int64  \n",
      " 10  HasCrCard        10000 non-null  int64  \n",
      " 11  IsActiveMember   10000 non-null  int64  \n",
      " 12  EstimatedSalary  10000 non-null  float64\n",
      " 13  Exited           10000 non-null  int64  \n",
      "dtypes: float64(3), int64(8), object(3)\n",
      "memory usage: 1.1+ MB\n"
     ]
    },
    {
     "data": {
      "text/html": [
       "<div>\n",
       "<style scoped>\n",
       "    .dataframe tbody tr th:only-of-type {\n",
       "        vertical-align: middle;\n",
       "    }\n",
       "\n",
       "    .dataframe tbody tr th {\n",
       "        vertical-align: top;\n",
       "    }\n",
       "\n",
       "    .dataframe thead th {\n",
       "        text-align: right;\n",
       "    }\n",
       "</style>\n",
       "<table border=\"1\" class=\"dataframe\">\n",
       "  <thead>\n",
       "    <tr style=\"text-align: right;\">\n",
       "      <th></th>\n",
       "      <th>RowNumber</th>\n",
       "      <th>CustomerId</th>\n",
       "      <th>Surname</th>\n",
       "      <th>CreditScore</th>\n",
       "      <th>Geography</th>\n",
       "      <th>Gender</th>\n",
       "      <th>Age</th>\n",
       "      <th>Tenure</th>\n",
       "      <th>Balance</th>\n",
       "      <th>NumOfProducts</th>\n",
       "      <th>HasCrCard</th>\n",
       "      <th>IsActiveMember</th>\n",
       "      <th>EstimatedSalary</th>\n",
       "      <th>Exited</th>\n",
       "    </tr>\n",
       "  </thead>\n",
       "  <tbody>\n",
       "    <tr>\n",
       "      <th>0</th>\n",
       "      <td>1</td>\n",
       "      <td>15634602</td>\n",
       "      <td>Hargrave</td>\n",
       "      <td>619</td>\n",
       "      <td>France</td>\n",
       "      <td>Female</td>\n",
       "      <td>42</td>\n",
       "      <td>2.0</td>\n",
       "      <td>0.00</td>\n",
       "      <td>1</td>\n",
       "      <td>1</td>\n",
       "      <td>1</td>\n",
       "      <td>101348.88</td>\n",
       "      <td>1</td>\n",
       "    </tr>\n",
       "    <tr>\n",
       "      <th>1</th>\n",
       "      <td>2</td>\n",
       "      <td>15647311</td>\n",
       "      <td>Hill</td>\n",
       "      <td>608</td>\n",
       "      <td>Spain</td>\n",
       "      <td>Female</td>\n",
       "      <td>41</td>\n",
       "      <td>1.0</td>\n",
       "      <td>83807.86</td>\n",
       "      <td>1</td>\n",
       "      <td>0</td>\n",
       "      <td>1</td>\n",
       "      <td>112542.58</td>\n",
       "      <td>0</td>\n",
       "    </tr>\n",
       "    <tr>\n",
       "      <th>2</th>\n",
       "      <td>3</td>\n",
       "      <td>15619304</td>\n",
       "      <td>Onio</td>\n",
       "      <td>502</td>\n",
       "      <td>France</td>\n",
       "      <td>Female</td>\n",
       "      <td>42</td>\n",
       "      <td>8.0</td>\n",
       "      <td>159660.80</td>\n",
       "      <td>3</td>\n",
       "      <td>1</td>\n",
       "      <td>0</td>\n",
       "      <td>113931.57</td>\n",
       "      <td>1</td>\n",
       "    </tr>\n",
       "    <tr>\n",
       "      <th>3</th>\n",
       "      <td>4</td>\n",
       "      <td>15701354</td>\n",
       "      <td>Boni</td>\n",
       "      <td>699</td>\n",
       "      <td>France</td>\n",
       "      <td>Female</td>\n",
       "      <td>39</td>\n",
       "      <td>1.0</td>\n",
       "      <td>0.00</td>\n",
       "      <td>2</td>\n",
       "      <td>0</td>\n",
       "      <td>0</td>\n",
       "      <td>93826.63</td>\n",
       "      <td>0</td>\n",
       "    </tr>\n",
       "    <tr>\n",
       "      <th>4</th>\n",
       "      <td>5</td>\n",
       "      <td>15737888</td>\n",
       "      <td>Mitchell</td>\n",
       "      <td>850</td>\n",
       "      <td>Spain</td>\n",
       "      <td>Female</td>\n",
       "      <td>43</td>\n",
       "      <td>2.0</td>\n",
       "      <td>125510.82</td>\n",
       "      <td>1</td>\n",
       "      <td>1</td>\n",
       "      <td>1</td>\n",
       "      <td>79084.10</td>\n",
       "      <td>0</td>\n",
       "    </tr>\n",
       "  </tbody>\n",
       "</table>\n",
       "</div>"
      ],
      "text/plain": [
       "   RowNumber  CustomerId   Surname  CreditScore Geography  Gender  Age  \\\n",
       "0          1    15634602  Hargrave          619    France  Female   42   \n",
       "1          2    15647311      Hill          608     Spain  Female   41   \n",
       "2          3    15619304      Onio          502    France  Female   42   \n",
       "3          4    15701354      Boni          699    France  Female   39   \n",
       "4          5    15737888  Mitchell          850     Spain  Female   43   \n",
       "\n",
       "   Tenure    Balance  NumOfProducts  HasCrCard  IsActiveMember  \\\n",
       "0     2.0       0.00              1          1               1   \n",
       "1     1.0   83807.86              1          0               1   \n",
       "2     8.0  159660.80              3          1               0   \n",
       "3     1.0       0.00              2          0               0   \n",
       "4     2.0  125510.82              1          1               1   \n",
       "\n",
       "   EstimatedSalary  Exited  \n",
       "0        101348.88       1  \n",
       "1        112542.58       0  \n",
       "2        113931.57       1  \n",
       "3         93826.63       0  \n",
       "4         79084.10       0  "
      ]
     },
     "metadata": {},
     "output_type": "display_data"
    },
    {
     "data": {
      "text/html": [
       "<div>\n",
       "<style scoped>\n",
       "    .dataframe tbody tr th:only-of-type {\n",
       "        vertical-align: middle;\n",
       "    }\n",
       "\n",
       "    .dataframe tbody tr th {\n",
       "        vertical-align: top;\n",
       "    }\n",
       "\n",
       "    .dataframe thead th {\n",
       "        text-align: right;\n",
       "    }\n",
       "</style>\n",
       "<table border=\"1\" class=\"dataframe\">\n",
       "  <thead>\n",
       "    <tr style=\"text-align: right;\">\n",
       "      <th></th>\n",
       "      <th>RowNumber</th>\n",
       "      <th>CustomerId</th>\n",
       "      <th>CreditScore</th>\n",
       "      <th>Age</th>\n",
       "      <th>Tenure</th>\n",
       "      <th>Balance</th>\n",
       "      <th>NumOfProducts</th>\n",
       "      <th>HasCrCard</th>\n",
       "      <th>IsActiveMember</th>\n",
       "      <th>EstimatedSalary</th>\n",
       "      <th>Exited</th>\n",
       "    </tr>\n",
       "  </thead>\n",
       "  <tbody>\n",
       "    <tr>\n",
       "      <th>count</th>\n",
       "      <td>10000.00000</td>\n",
       "      <td>1.000000e+04</td>\n",
       "      <td>10000.000000</td>\n",
       "      <td>10000.000000</td>\n",
       "      <td>9091.000000</td>\n",
       "      <td>10000.000000</td>\n",
       "      <td>10000.000000</td>\n",
       "      <td>10000.00000</td>\n",
       "      <td>10000.000000</td>\n",
       "      <td>10000.000000</td>\n",
       "      <td>10000.000000</td>\n",
       "    </tr>\n",
       "    <tr>\n",
       "      <th>mean</th>\n",
       "      <td>5000.50000</td>\n",
       "      <td>1.569094e+07</td>\n",
       "      <td>650.528800</td>\n",
       "      <td>38.921800</td>\n",
       "      <td>4.997690</td>\n",
       "      <td>76485.889288</td>\n",
       "      <td>1.530200</td>\n",
       "      <td>0.70550</td>\n",
       "      <td>0.515100</td>\n",
       "      <td>100090.239881</td>\n",
       "      <td>0.203700</td>\n",
       "    </tr>\n",
       "    <tr>\n",
       "      <th>std</th>\n",
       "      <td>2886.89568</td>\n",
       "      <td>7.193619e+04</td>\n",
       "      <td>96.653299</td>\n",
       "      <td>10.487806</td>\n",
       "      <td>2.894723</td>\n",
       "      <td>62397.405202</td>\n",
       "      <td>0.581654</td>\n",
       "      <td>0.45584</td>\n",
       "      <td>0.499797</td>\n",
       "      <td>57510.492818</td>\n",
       "      <td>0.402769</td>\n",
       "    </tr>\n",
       "    <tr>\n",
       "      <th>min</th>\n",
       "      <td>1.00000</td>\n",
       "      <td>1.556570e+07</td>\n",
       "      <td>350.000000</td>\n",
       "      <td>18.000000</td>\n",
       "      <td>0.000000</td>\n",
       "      <td>0.000000</td>\n",
       "      <td>1.000000</td>\n",
       "      <td>0.00000</td>\n",
       "      <td>0.000000</td>\n",
       "      <td>11.580000</td>\n",
       "      <td>0.000000</td>\n",
       "    </tr>\n",
       "    <tr>\n",
       "      <th>25%</th>\n",
       "      <td>2500.75000</td>\n",
       "      <td>1.562853e+07</td>\n",
       "      <td>584.000000</td>\n",
       "      <td>32.000000</td>\n",
       "      <td>2.000000</td>\n",
       "      <td>0.000000</td>\n",
       "      <td>1.000000</td>\n",
       "      <td>0.00000</td>\n",
       "      <td>0.000000</td>\n",
       "      <td>51002.110000</td>\n",
       "      <td>0.000000</td>\n",
       "    </tr>\n",
       "    <tr>\n",
       "      <th>50%</th>\n",
       "      <td>5000.50000</td>\n",
       "      <td>1.569074e+07</td>\n",
       "      <td>652.000000</td>\n",
       "      <td>37.000000</td>\n",
       "      <td>5.000000</td>\n",
       "      <td>97198.540000</td>\n",
       "      <td>1.000000</td>\n",
       "      <td>1.00000</td>\n",
       "      <td>1.000000</td>\n",
       "      <td>100193.915000</td>\n",
       "      <td>0.000000</td>\n",
       "    </tr>\n",
       "    <tr>\n",
       "      <th>75%</th>\n",
       "      <td>7500.25000</td>\n",
       "      <td>1.575323e+07</td>\n",
       "      <td>718.000000</td>\n",
       "      <td>44.000000</td>\n",
       "      <td>7.000000</td>\n",
       "      <td>127644.240000</td>\n",
       "      <td>2.000000</td>\n",
       "      <td>1.00000</td>\n",
       "      <td>1.000000</td>\n",
       "      <td>149388.247500</td>\n",
       "      <td>0.000000</td>\n",
       "    </tr>\n",
       "    <tr>\n",
       "      <th>max</th>\n",
       "      <td>10000.00000</td>\n",
       "      <td>1.581569e+07</td>\n",
       "      <td>850.000000</td>\n",
       "      <td>92.000000</td>\n",
       "      <td>10.000000</td>\n",
       "      <td>250898.090000</td>\n",
       "      <td>4.000000</td>\n",
       "      <td>1.00000</td>\n",
       "      <td>1.000000</td>\n",
       "      <td>199992.480000</td>\n",
       "      <td>1.000000</td>\n",
       "    </tr>\n",
       "  </tbody>\n",
       "</table>\n",
       "</div>"
      ],
      "text/plain": [
       "         RowNumber    CustomerId   CreditScore           Age       Tenure  \\\n",
       "count  10000.00000  1.000000e+04  10000.000000  10000.000000  9091.000000   \n",
       "mean    5000.50000  1.569094e+07    650.528800     38.921800     4.997690   \n",
       "std     2886.89568  7.193619e+04     96.653299     10.487806     2.894723   \n",
       "min        1.00000  1.556570e+07    350.000000     18.000000     0.000000   \n",
       "25%     2500.75000  1.562853e+07    584.000000     32.000000     2.000000   \n",
       "50%     5000.50000  1.569074e+07    652.000000     37.000000     5.000000   \n",
       "75%     7500.25000  1.575323e+07    718.000000     44.000000     7.000000   \n",
       "max    10000.00000  1.581569e+07    850.000000     92.000000    10.000000   \n",
       "\n",
       "             Balance  NumOfProducts    HasCrCard  IsActiveMember  \\\n",
       "count   10000.000000   10000.000000  10000.00000    10000.000000   \n",
       "mean    76485.889288       1.530200      0.70550        0.515100   \n",
       "std     62397.405202       0.581654      0.45584        0.499797   \n",
       "min         0.000000       1.000000      0.00000        0.000000   \n",
       "25%         0.000000       1.000000      0.00000        0.000000   \n",
       "50%     97198.540000       1.000000      1.00000        1.000000   \n",
       "75%    127644.240000       2.000000      1.00000        1.000000   \n",
       "max    250898.090000       4.000000      1.00000        1.000000   \n",
       "\n",
       "       EstimatedSalary        Exited  \n",
       "count     10000.000000  10000.000000  \n",
       "mean     100090.239881      0.203700  \n",
       "std       57510.492818      0.402769  \n",
       "min          11.580000      0.000000  \n",
       "25%       51002.110000      0.000000  \n",
       "50%      100193.915000      0.000000  \n",
       "75%      149388.247500      0.000000  \n",
       "max      199992.480000      1.000000  "
      ]
     },
     "execution_count": 3,
     "metadata": {},
     "output_type": "execute_result"
    }
   ],
   "source": [
    "# Descripción de datos\n",
    "\n",
    "data.info()\n",
    "\n",
    "display(data.head())\n",
    "\n",
    "data.describe()"
   ]
  },
  {
   "cell_type": "code",
   "execution_count": 4,
   "metadata": {},
   "outputs": [
    {
     "name": "stdout",
     "output_type": "stream",
     "text": [
      "0\n"
     ]
    }
   ],
   "source": [
    "# Análisis de duplicados totales\n",
    "\n",
    "print(data.duplicated().sum())"
   ]
  },
  {
   "cell_type": "code",
   "execution_count": 5,
   "metadata": {},
   "outputs": [
    {
     "name": "stdout",
     "output_type": "stream",
     "text": [
      "909\n"
     ]
    }
   ],
   "source": [
    "# Conteo de valores ausentes\n",
    "\n",
    "print(data.Tenure.isna().sum())"
   ]
  },
  {
   "cell_type": "markdown",
   "metadata": {},
   "source": [
    "<span style=color:blue> **Comentario:** </span>\n",
    "\n",
    "No hay valores ausentes, a excepción de los 909 de la columna *Tenure*, ya que esta columna incluye datos de inversiones a plazo, un valor ausente significa que los clientes no han contratado ese servicio. **Se convertirán a 0 los NaN de esta columna, para poder entrenar los modelos**. \n",
    "\n",
    "No hay valores duplicados totales en el dataset. \n",
    "\n",
    "Hay valores tipo *object* en tres columnas: *Surname*, *Geography* y *Gender*. **Para poder entrenar los modelos se utilizará OrdinalEncoder**.\n",
    "\n",
    "Para evitar que algunos valores numéricos tengan más peso que otros, **se utilizará escalado de características, estandarizando estos datos**.\n",
    "\n",
    "Considero que las **columnas *RowNumber*, *CustomerId* y *Surname*** no aportan información valiosa para la predicción, por lo que **serán eliminadas**"
   ]
  },
  {
   "cell_type": "code",
   "execution_count": 6,
   "metadata": {},
   "outputs": [],
   "source": [
    "# Cambio de valores NaN por 0\n",
    "\n",
    "data.Tenure.fillna(0, inplace=True)"
   ]
  },
  {
   "cell_type": "code",
   "execution_count": 7,
   "metadata": {},
   "outputs": [
    {
     "name": "stdout",
     "output_type": "stream",
     "text": [
      "<class 'pandas.core.frame.DataFrame'>\n",
      "RangeIndex: 10000 entries, 0 to 9999\n",
      "Data columns (total 11 columns):\n",
      " #   Column           Non-Null Count  Dtype  \n",
      "---  ------           --------------  -----  \n",
      " 0   CreditScore      10000 non-null  int64  \n",
      " 1   Geography        10000 non-null  object \n",
      " 2   Gender           10000 non-null  object \n",
      " 3   Age              10000 non-null  int64  \n",
      " 4   Tenure           10000 non-null  float64\n",
      " 5   Balance          10000 non-null  float64\n",
      " 6   NumOfProducts    10000 non-null  int64  \n",
      " 7   HasCrCard        10000 non-null  int64  \n",
      " 8   IsActiveMember   10000 non-null  int64  \n",
      " 9   EstimatedSalary  10000 non-null  float64\n",
      " 10  Exited           10000 non-null  int64  \n",
      "dtypes: float64(3), int64(6), object(2)\n",
      "memory usage: 859.5+ KB\n"
     ]
    }
   ],
   "source": [
    "# Eliminación de columnas RowNumber, CustomerId y Surname\n",
    "\n",
    "data.drop(['RowNumber', 'CustomerId', 'Surname'], axis=1, inplace=True)\n",
    "\n",
    "data.info()"
   ]
  },
  {
   "cell_type": "markdown",
   "metadata": {},
   "source": [
    "## Equilibrio de clases"
   ]
  },
  {
   "cell_type": "code",
   "execution_count": 8,
   "metadata": {},
   "outputs": [
    {
     "data": {
      "text/plain": [
       "Text(0.5, 1.0, 'Proporción de clientes activos y no activos')"
      ]
     },
     "execution_count": 8,
     "metadata": {},
     "output_type": "execute_result"
    },
    {
     "data": {
      "image/png": "[encoded data removed]",
      "text/plain": [
       "<Figure size 640x480 with 1 Axes>"
      ]
     },
     "metadata": {},
     "output_type": "display_data"
    }
   ],
   "source": [
    "# Visualización del equilibrio de clases\n",
    "\n",
    "(data.Exited.value_counts(1)*100).plot(kind='bar')\n",
    "\n",
    "plt.title('Proporción de clientes activos y no activos')"
   ]
  },
  {
   "cell_type": "markdown",
   "metadata": {},
   "source": [
    "<span style=color:blue> **Comentario:** </span>\n",
    "\n",
    "El 80% de los datos son clientes activos, mientras que el 20% son clientes que han cancelado sus cuentas. Es una proporción 4:1 entre las clases 0 y 1. \n",
    "\n",
    "Existe un desbalance claro de las clases. "
   ]
  },
  {
   "cell_type": "markdown",
   "metadata": {},
   "source": [
    "## Entrenamiento de modelos\n",
    "\n",
    "No se tomará en cuenta el desequilibrio de clases.\n",
    "\n",
    "El problema es de clasificación binaria, por lo que se entrenarán modelos de tipo: árbol de decisión, bosque aleatorio y regresión logística. "
   ]
  },
  {
   "cell_type": "markdown",
   "metadata": {},
   "source": [
    "### Preprocesamiento de modelos"
   ]
  },
  {
   "cell_type": "code",
   "execution_count": 9,
   "metadata": {},
   "outputs": [],
   "source": [
    "# Codificación de etiquetas para caracterísiticas categóricas\n",
    "\n",
    "encoder = OrdinalEncoder()  # instancia de clase\n",
    "\n",
    "# Ajuste y transformación de datos\n",
    "data_ordinal = pd.DataFrame(encoder.fit_transform(data), columns=data.columns)"
   ]
  },
  {
   "cell_type": "code",
   "execution_count": 10,
   "metadata": {},
   "outputs": [
    {
     "name": "stdout",
     "output_type": "stream",
     "text": [
      "(6000, 10) (2000, 10) (2000, 10)\n",
      "(6000,) (2000,) (2000,)\n"
     ]
    }
   ],
   "source": [
    "# Separación de características y target\n",
    "\n",
    "features = data_ordinal.drop('Exited', axis=1)\n",
    "target = data_ordinal['Exited']\n",
    "\n",
    "# Creación de sets de entrenamiento, validación y prueba (proporción 3:1:1)\n",
    "\n",
    "# Primero se crean los sets de entrenamiento+validación 80% y prueba 20%\n",
    "\n",
    "features_t_v, features_test, target_t_v, target_test = train_test_split(\n",
    "    features, target, test_size=0.20, random_state=54321)\n",
    "\n",
    "# Creación de set entrenamiento y validación\n",
    "\n",
    "features_train, features_valid, target_train, target_valid = train_test_split(\n",
    "    features_t_v, target_t_v, test_size=0.25, random_state=54321)\n",
    "\n",
    "# Comprobación de tamaño y proporción de sets\n",
    "\n",
    "print(features_train.shape, features_valid.shape, features_test.shape)\n",
    "\n",
    "print(target_train.shape, target_valid.shape, target_test.shape)"
   ]
  },
  {
   "cell_type": "code",
   "execution_count": 11,
   "metadata": {},
   "outputs": [],
   "source": [
    "# Estandarización de características numéricas\n",
    "\n",
    "# Características numéricas\n",
    "numeric = ['CreditScore', 'Age', 'Tenure', 'Balance',\n",
    "           'NumOfProducts', 'HasCrCard', 'IsActiveMember', 'EstimatedSalary']\n",
    "\n",
    "# Creación de instancia de clase y ajuste de datos\n",
    "scaler = StandardScaler()\n",
    "scaler.fit(features_train[numeric])\n",
    "\n",
    "features_train[numeric] = scaler.transform(features_train[numeric])\n",
    "features_valid[numeric] = scaler.transform(features_valid[numeric])\n",
    "features_test[numeric] = scaler.transform(features_test[numeric])"
   ]
  },
  {
   "cell_type": "markdown",
   "metadata": {},
   "source": [
    "### Modelo 1: árbol de decisión"
   ]
  },
  {
   "cell_type": "code",
   "execution_count": 12,
   "metadata": {},
   "outputs": [
    {
     "name": "stdout",
     "output_type": "stream",
     "text": [
      "max_depth: 1, f1_score: 0.0\n",
      "max_depth: 2, f1_score: 0.5049928673323822\n",
      "max_depth: 3, f1_score: 0.5424200278164116\n",
      "max_depth: 4, f1_score: 0.5345345345345345\n",
      "max_depth: 5, f1_score: 0.5217391304347826\n",
      "max_depth: 6, f1_score: 0.5186335403726708\n",
      "max_depth: 7, f1_score: 0.5521126760563381\n",
      "max_depth: 8, f1_score: 0.5515320334261838\n",
      "max_depth: 9, f1_score: 0.5461847389558233\n",
      "max_depth: 10, f1_score: 0.5456953642384106\n"
     ]
    }
   ],
   "source": [
    "# Entrenamiento y predicción con profundidades desde 1 hasta 10\n",
    "\n",
    "for depth in range(1, 11):\n",
    "    model = DecisionTreeClassifier(random_state=54321, max_depth=depth)\n",
    "\n",
    "    # Entrenamiento del modelo\n",
    "    model.fit(features_train, target_train)\n",
    "\n",
    "    # Predicción con el modelo entrenado\n",
    "    predicted_valid = model.predict(features_valid)\n",
    "\n",
    "    # F1_score\n",
    "    score = f1_score(target_valid, predicted_valid)\n",
    "\n",
    "    print(f\"max_depth: {depth}, f1_score: {score}\")"
   ]
  },
  {
   "cell_type": "markdown",
   "metadata": {},
   "source": [
    "<span style=color:blue> **Comentario:** </span>\n",
    "\n",
    "El mejor score se obutvo con una profundidad de 7, siendo de 0.5602240896358543\n",
    "\n",
    "    max_depth: 7, f1_score: 0.5521126760563381\n",
    "\n",
    "Sin embargo, no es lo suficientemente alto, por lo que un **árbol de decisión no es el modelo adecuado para este problema**. "
   ]
  },
  {
   "cell_type": "markdown",
   "metadata": {},
   "source": [
    "### Modelo 2: bosque aleatorio"
   ]
  },
  {
   "cell_type": "code",
   "execution_count": 13,
   "metadata": {},
   "outputs": [
    {
     "name": "stdout",
     "output_type": "stream",
     "text": [
      "n_estimators: 11, max_depth: 12, f1_score: 0.6109589041095891\n"
     ]
    }
   ],
   "source": [
    "# Bucle para probar diferentes valores del hiperparámetro n_estimators, desde 1 hasta 20\n",
    "# También se probarán diferentes valores de profundidad, desde 1 hasta 20\n",
    "\n",
    "best_score = 0\n",
    "best_est = 0\n",
    "best_depth = 0\n",
    "\n",
    "for est in range(1, 21):\n",
    "    for depth in range(1, 21):\n",
    "        model = RandomForestClassifier(\n",
    "            n_estimators=est, max_depth=depth, random_state=54321)\n",
    "\n",
    "        # Entrenamiento\n",
    "        model.fit(features_train, target_train)\n",
    "\n",
    "        # Predicción\n",
    "        predicted_valid = model.predict(features_valid)\n",
    "\n",
    "        # Score con set de validación\n",
    "        score = f1_score(target_valid, predicted_valid)\n",
    "\n",
    "        if score > best_score:\n",
    "            best_score = score\n",
    "            best_est = est\n",
    "            best_depth = depth\n",
    "\n",
    "print(\n",
    "    f\"n_estimators: {best_est}, max_depth: {best_depth}, f1_score: {best_score}\")"
   ]
  },
  {
   "cell_type": "markdown",
   "metadata": {},
   "source": [
    "<span style=color:blue> **Comentario:** </span>\n",
    "\n",
    "El mejor score se obutvo con 11 estimadores y una profundidad de 12, siendo de 0.6109589041095891\n",
    "\n",
    "    n_estimators: 11, max_depth: 12, f1_score: 0.6109589041095891\n",
    "    \n",
    "El score obtenido está sobre el mínimo solicitado (0.59), por lo que **el modelo de bosque aleatorio podría ser el adecuado para este problema**. "
   ]
  },
  {
   "cell_type": "markdown",
   "metadata": {},
   "source": [
    "### Modelo 3: regresión logística"
   ]
  },
  {
   "cell_type": "code",
   "execution_count": 14,
   "metadata": {},
   "outputs": [
    {
     "name": "stdout",
     "output_type": "stream",
     "text": [
      "f1_score: 0.5689900426742532\n"
     ]
    }
   ],
   "source": [
    "# Sin ajuste de pesos de clase\n",
    "\n",
    "model = LogisticRegression(random_state=54321, solver='liblinear')\n",
    "model.fit(features_train, target_train)\n",
    "predicted_valid_lr = model.predict(features_valid)\n",
    "\n",
    "score = f1_score(target_valid, predicted_valid)\n",
    "\n",
    "print(f\"f1_score: {score}\")"
   ]
  },
  {
   "cell_type": "markdown",
   "metadata": {},
   "source": [
    "<span style=color:blue> **Comentario:** </span>\n",
    "\n",
    "El valor obtenido de score **no es lo suficientemnte alto**, aunque sí es mejor que el obtenido con el árbol de decisión, para elegir este modelo como alternativa para este problema. \n",
    "\n",
    "    f1_score: 0.5689900426742532"
   ]
  },
  {
   "cell_type": "markdown",
   "metadata": {},
   "source": [
    "## Selección de modelo\n",
    "\n",
    "El **modelo con el mejor score** obtenido en el conjunto de validación fue el de **bosque aleatorio** con los siguientes hiperparámetros:\n",
    "\n",
    "- estimadores: 11\n",
    "\n",
    "- profundidad: 12"
   ]
  },
  {
   "cell_type": "markdown",
   "metadata": {},
   "source": [
    "### Mejora de calidad del modelo\n",
    "\n",
    "Se usarán los siguientes enfoques para mejorar la calidad del modelo:\n",
    "\n",
    "1. Ajuste de pesos de clase\n",
    "\n",
    "2. Sobremuestreo\n",
    "\n",
    "3. Submuestreo\n"
   ]
  },
  {
   "cell_type": "markdown",
   "metadata": {},
   "source": [
    "#### Ajuste de pesos de clase"
   ]
  },
  {
   "cell_type": "code",
   "execution_count": 15,
   "metadata": {},
   "outputs": [
    {
     "name": "stdout",
     "output_type": "stream",
     "text": [
      "score: 0.5919610231425092\n"
     ]
    }
   ],
   "source": [
    "model = RandomForestClassifier(\n",
    "    n_estimators=11, max_depth=12, random_state=54321, class_weight='balanced')\n",
    "\n",
    "model.fit(features_train, target_train)\n",
    "\n",
    "predicted_valid = model.predict(features_valid)\n",
    "\n",
    "print('score:', f1_score(target_valid, predicted_valid))"
   ]
  },
  {
   "cell_type": "markdown",
   "metadata": {},
   "source": [
    "<span style=color:blue> **Comentario:** </span>\n",
    "\n",
    "Ajustar los pesos de clase no funcionó, el score F1 bajó en lugar de subir. "
   ]
  },
  {
   "cell_type": "markdown",
   "metadata": {},
   "source": [
    "#### Sobremuestreo"
   ]
  },
  {
   "cell_type": "code",
   "execution_count": 16,
   "metadata": {},
   "outputs": [
    {
     "name": "stdout",
     "output_type": "stream",
     "text": [
      "F1: 0.6004618937644342\n"
     ]
    }
   ],
   "source": [
    "# función para crear sets de entrenamiento con sobremuestreo\n",
    "\n",
    "def upsample(features, target, repeat):\n",
    "    features_zeros = features[target == 0]\n",
    "    features_ones = features[target == 1]\n",
    "    target_zeros = target[target == 0]\n",
    "    target_ones = target[target == 1]\n",
    "\n",
    "    features_upsampled = pd.concat([features_zeros] + [features_ones] * repeat)\n",
    "    target_upsampled = pd.concat([target_zeros] + [target_ones] * repeat)\n",
    "\n",
    "    features_upsampled, target_upsampled = shuffle(\n",
    "        features_upsampled, target_upsampled, random_state=54321)\n",
    "\n",
    "    return features_upsampled, target_upsampled\n",
    "\n",
    "# Creación de set de entrenamiento con la función de sobremuestreo\n",
    "features_upsampled, target_upsampled = upsample(\n",
    "    features_train, target_train, 3)\n",
    "\n",
    "# Entrenamiento del modelo con sobremuestreo\n",
    "model = RandomForestClassifier(\n",
    "    n_estimators=11, max_depth=12, random_state=54321)\n",
    "\n",
    "model.fit(features_upsampled, target_upsampled)\n",
    "\n",
    "predicted_valid = model.predict(features_valid)\n",
    "\n",
    "print('F1:', f1_score(target_valid, predicted_valid))"
   ]
  },
  {
   "cell_type": "markdown",
   "metadata": {},
   "source": [
    "<span style=color:blue> **Comentario:** </span>\n",
    "\n",
    "Con el sobremuestreo, disminuyó ligeramente el score, pero se mantuvo sobre el mínimo requerido de 0.59\n",
    "\n",
    "    F1: 0.6004618937644342"
   ]
  },
  {
   "cell_type": "markdown",
   "metadata": {},
   "source": [
    "#### Submuestreo"
   ]
  },
  {
   "cell_type": "code",
   "execution_count": 17,
   "metadata": {},
   "outputs": [],
   "source": [
    "# Función para crear set de entrenamiento con submuestreo\n",
    "\n",
    "def downsample(features, target, fraction):\n",
    "\n",
    "    # Filtrado de características y target por clases 0 y 1\n",
    "    features_zeros = features[target == 0]\n",
    "    features_ones = features[target == 1]\n",
    "    target_zeros = target[target == 0]\n",
    "    target_ones = target[target == 1]\n",
    "\n",
    "    # Submuestreo\n",
    "    features_downsampled = pd.concat([features_zeros.sample(\n",
    "        frac=fraction, random_state=54321)] + [features_ones])\n",
    "    target_downsampled = pd.concat([target_zeros.sample(\n",
    "        frac=fraction, random_state=54321)] + [target_ones])\n",
    "\n",
    "    # Barajeo de la información \n",
    "    features_downsampled, target_downsampled = shuffle(\n",
    "        features_downsampled, target_downsampled, random_state=54321)\n",
    "\n",
    "    return features_downsampled, target_downsampled"
   ]
  },
  {
   "cell_type": "code",
   "execution_count": 18,
   "metadata": {},
   "outputs": [],
   "source": [
    "# Creación de set de entranamiento con submuestreo\n",
    "\n",
    "# Se usa fraction = 0.25 debido a que los clases mayoritarias son 4 veces más que las minoritarias\n",
    "features_downsampled, target_downsampled = downsample(\n",
    "    features_train, target_train, 0.25)"
   ]
  },
  {
   "cell_type": "code",
   "execution_count": 19,
   "metadata": {},
   "outputs": [
    {
     "name": "stdout",
     "output_type": "stream",
     "text": [
      "F1_score: 0.5801928133216477\n"
     ]
    }
   ],
   "source": [
    "# Entrenamiento de modelo\n",
    "\n",
    "model = RandomForestClassifier(\n",
    "    n_estimators=11, max_depth=12, random_state=54321)\n",
    "model.fit(features_downsampled, target_downsampled)\n",
    "\n",
    "predicted_valid = model.predict(features_valid)\n",
    "\n",
    "print('F1_score:', f1_score(target_valid, predicted_valid))"
   ]
  },
  {
   "cell_type": "markdown",
   "metadata": {},
   "source": [
    "<span style=color:blue> **Comentario:** </span>\n",
    "\n",
    "Con el submuestreo, se obtuvo un score por debajo de lo requerido:\n",
    "\n",
    "    F1_score: 0.5801928133216477\n"
   ]
  },
  {
   "cell_type": "markdown",
   "metadata": {},
   "source": [
    "## AUC - ROC"
   ]
  },
  {
   "cell_type": "code",
   "execution_count": 20,
   "metadata": {},
   "outputs": [
    {
     "name": "stdout",
     "output_type": "stream",
     "text": [
      "AUC-ROC: 0.8465989288971242\n"
     ]
    }
   ],
   "source": [
    "# Entrenamiento del modelo con sobremuestreo\n",
    "model = RandomForestClassifier(\n",
    "    n_estimators=11, max_depth=12, random_state=54321)\n",
    "model.fit(features_upsampled, target_upsampled)\n",
    "\n",
    "# Predicción de probabilidades\n",
    "probabilities_valid = model.predict_proba(features_valid)\n",
    "\n",
    "# Selección de probabilidades positivas\n",
    "probabilities_one_valid = probabilities_valid[:, 1]\n",
    "\n",
    "# Cálculo del área bajo la curva ROC\n",
    "auc_roc = roc_auc_score(target_valid, probabilities_one_valid)\n",
    "\n",
    "print('AUC-ROC:', auc_roc)"
   ]
  },
  {
   "cell_type": "code",
   "execution_count": 21,
   "metadata": {},
   "outputs": [
    {
     "data": {
      "image/png": "[encoded data removed]",
      "text/plain": [
       "<Figure size 640x480 with 1 Axes>"
      ]
     },
     "metadata": {},
     "output_type": "display_data"
    }
   ],
   "source": [
    "# Curva ROC\n",
    "\n",
    "fpr, tpr, thresholds = roc_curve(target_valid, probabilities_one_valid)\n",
    "\n",
    "plt.figure()\n",
    "\n",
    "plt.plot(fpr, tpr)\n",
    "\n",
    "# Curva ROC para modelo aleatorio (parece una línea recta)\n",
    "plt.plot([0, 1], [0, 1], linestyle='--')\n",
    "\n",
    "\n",
    "# límite para los ejes de 0 a 1\n",
    "plt.xlim([0.0, 1.0])\n",
    "plt.ylim([0.0, 1.0])\n",
    "\n",
    "#  nombrar los ejes \"Tasa de falsos positivos\" y \"Tasa de verdaderos positivos\">\n",
    "plt.xlabel('Tasa de falsos positivos')\n",
    "plt.ylabel('Tasa de verdaderos positivos')\n",
    "\n",
    "# encabezado \"Curva ROC\"\n",
    "plt.title('Curva ROC')\n",
    "\n",
    "plt.show()"
   ]
  },
  {
   "cell_type": "markdown",
   "metadata": {},
   "source": [
    "<span style=color:blue> **Comentario:** </span>\n",
    "\n",
    "El AUC ROC de AUC-ROC: 0.8465989288971242 y la curva ROC nos indican que el modelo entrenado tiene una capacidad predictiva de buena calidad.\n",
    "\n",
    "El valor es mayor que el score f1, lo cual es adecuado, pues no son métricas que midan lo mismo. Mientras más alto sea AUC ROC, mejor está cumpliendo su función predictiva el modelo. "
   ]
  },
  {
   "cell_type": "markdown",
   "metadata": {},
   "source": [
    "## Verificación con set de prueba\n",
    "\n",
    "Se usará el modelo de bosque aleatorio con 11 estimadores, profundidad máxima de 12 y balanceo por sobremuestreo. "
   ]
  },
  {
   "cell_type": "code",
   "execution_count": 22,
   "metadata": {},
   "outputs": [
    {
     "name": "stdout",
     "output_type": "stream",
     "text": [
      "f1_score: 0.6243654822335024\n"
     ]
    }
   ],
   "source": [
    "# Entrenamiento del modelo\n",
    "model = RandomForestClassifier(\n",
    "    n_estimators=11, max_depth=12, random_state=54321)\n",
    "model.fit(features_upsampled, target_upsampled)\n",
    "\n",
    "# Predicción con set de prueba\n",
    "predicted_test = model.predict(features_test)\n",
    "\n",
    "# Score\n",
    "print('f1_score:', f1_score(target_test, predicted_test))"
   ]
  },
  {
   "cell_type": "markdown",
   "metadata": {},
   "source": [
    "<span style=color:blue> **Comentario:** </span>\n",
    "\n",
    "1. Se realizaron pruebas entrenando el modelo con los sets de sobremuestreo y submuestreo, obteniendo mejor score con el balanceo por sobremuetsreo.\n",
    "\n",
    "2. El score obtenido con el set de prueba fue satisfactorio, superando el mínimo requerido (0.59):\n",
    "\n",
    "        f1_score: 0.6243654822335024"
   ]
  },
  {
   "cell_type": "markdown",
   "metadata": {},
   "source": [
    "## Conclusiones"
   ]
  },
  {
   "cell_type": "markdown",
   "metadata": {},
   "source": [
    "1. El modelo elegido para predecir si un cliente cerrará su cuenta en el banco fue un bosque aleatorios con los siguientes hiperparámetros:\n",
    "\n",
    "        - n_estimators: 11\n",
    "\n",
    "        - max_depth: 12\n",
    "\n",
    "2. La técnica de sobremuestreo dio el mejor resultado de f1_score con el set de prueba, a pesar de que, comparado con el entrenamiento sin ajuste de clases, dio un score ligeramente más bajo. \n",
    "\n",
    "3. Se superó el score mínimo requerido con el set de prueba:\n",
    "\n",
    "        f1_score: 0.6243654822335024\n",
    "        \n",
    "4. El score f1 obtenido es satisfactorio, pues es mejor que un modelo que asigne clases de forma aleatoria. \n",
    "\n",
    "5. El AUC ROC fue de AUC-ROC: 0.8465989288971242, lo cual indica que la capacidad predictiva del modelo es de buena calidad. "
   ]
  }
 ],
 "metadata": {
  "ExecuteTimeLog": [
   {
    "duration": 13,
    "start_time": "2024-08-25T03:27:14.520Z"
   }
  ],
  "kernelspec": {
   "display_name": "Python 3",
   "language": "python",
   "name": "python3"
  },
  "language_info": {
   "codemirror_mode": {
    "name": "ipython",
    "version": 3
   },
   "file_extension": ".py",
   "mimetype": "text/x-python",
   "name": "python",
   "nbconvert_exporter": "python",
   "pygments_lexer": "ipython3",
   "version": "3.12.2"
  },
  "toc": {
   "base_numbering": 1,
   "nav_menu": {},
   "number_sections": true,
   "sideBar": true,
   "skip_h1_title": true,
   "title_cell": "Table of Contents",
   "title_sidebar": "Contents",
   "toc_cell": false,
   "toc_position": {},
   "toc_section_display": true,
   "toc_window_display": false
  }
 },
 "nbformat": 4,
 "nbformat_minor": 2
}
